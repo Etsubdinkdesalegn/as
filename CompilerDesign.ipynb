{
  "nbformat": 4,
  "nbformat_minor": 0,
  "metadata": {
    "colab": {
      "provenance": [],
      "toc_visible": true,
      "mount_file_id": "190Je-D1QM-d_I4UDD7zvLGuZgHBPrbx7",
      "authorship_tag": "ABX9TyNkJsygKtx17bKgY7sSW8UE",
      "include_colab_link": true
    },
    "kernelspec": {
      "name": "python3",
      "display_name": "Python 3"
    },
    "language_info": {
      "name": "python"
    }
  },
  "cells": [
    {
      "cell_type": "markdown",
      "metadata": {
        "id": "view-in-github",
        "colab_type": "text"
      },
      "source": [
        "<a href=\"https://colab.research.google.com/github/Etsubdinkdesalegn/as/blob/main/CompilerDesign.ipynb\" target=\"_parent\"><img src=\"https://colab.research.google.com/assets/colab-badge.svg\" alt=\"Open In Colab\"/></a>"
      ]
    },
    {
      "cell_type": "code",
      "source": [
        "# Etsubdink Desalegn Adamu\n",
        "# 146018"
      ],
      "metadata": {
        "id": "rE__9LnrTy4i"
      },
      "execution_count": null,
      "outputs": []
    },
    {
      "cell_type": "code",
      "execution_count": 23,
      "metadata": {
        "colab": {
          "base_uri": "https://localhost:8080/"
        },
        "id": "SWJYQPbeSch5",
        "outputId": "27da6132-dd3c-4496-c414-7187304c0c14"
      },
      "outputs": [
        {
          "output_type": "stream",
          "name": "stdout",
          "text": [
            "Cloning into 'compiler-design'...\n",
            "remote: Enumerating objects: 10, done.\u001b[K\n",
            "remote: Counting objects: 100% (10/10), done.\u001b[K\n",
            "remote: Compressing objects: 100% (6/6), done.\u001b[K\n",
            "remote: Total 10 (delta 1), reused 0 (delta 0), pack-reused 0 (from 0)\u001b[K\n",
            "Receiving objects: 100% (10/10), 4.34 KiB | 4.34 MiB/s, done.\n",
            "Resolving deltas: 100% (1/1), done.\n",
            "/content/compiler-design/compiler-design/compiler-design/compiler-design/compiler-design/compiler-design/compiler-design/compiler-design/compiler-design/compiler-design/compiler-design/compiler-design/compiler-design/compiler-design/compiler-design\n",
            "README.md\n",
            "Name: Etsubdink Desalegn\n",
            "ID Number: WDU146018\n",
            "Colab Link: https://colab.research.google.com/drive/190Je-D1QM-d_I4UDD7zvLGuZgHBPrbx7?usp=sharing\n",
            "[main d34898a] Updated README.md with name, ID, and Colab link\n",
            " 1 file changed, 3 insertions(+), 29 deletions(-)\n",
            " rewrite README.md (100%)\n",
            "remote: Permission to Etsubdinkdesalegn/compiler-design.git denied to Etsubdinkdesalegn.\n",
            "fatal: unable to access 'https://github.com/Etsubdinkdesalegn/compiler-design.git/': The requested URL returned error: 403\n"
          ]
        }
      ],
      "source": [
        "!git clone \"https://github.com/Esma-esmiz/compiler-design\"\n"
      ]
    },
    {
      "cell_type": "code",
      "source": [
        "!ls\n"
      ],
      "metadata": {
        "colab": {
          "base_uri": "https://localhost:8080/"
        },
        "id": "yNJzcTPTVcV7",
        "outputId": "d9c10e76-9568-4fde-97ae-1df9af498c42"
      },
      "execution_count": 17,
      "outputs": [
        {
          "output_type": "stream",
          "name": "stdout",
          "text": [
            "fatal: could not read Username for 'https://github.com': No such device or address\n"
          ]
        }
      ]
    },
    {
      "cell_type": "code",
      "source": [
        "!apt-get install flex\n",
        "!apt-get install bison\n"
      ],
      "metadata": {
        "colab": {
          "base_uri": "https://localhost:8080/"
        },
        "id": "uFfEZ5UWTYWS",
        "outputId": "f591d288-afab-42d3-db66-84412a8580e8"
      },
      "execution_count": null,
      "outputs": [
        {
          "output_type": "stream",
          "name": "stdout",
          "text": [
            "Reading package lists... Done\n",
            "Building dependency tree... Done\n",
            "Reading state information... Done\n",
            "The following additional packages will be installed:\n",
            "  libfl-dev libfl2\n",
            "Suggested packages:\n",
            "  bison flex-doc\n",
            "The following NEW packages will be installed:\n",
            "  flex libfl-dev libfl2\n",
            "0 upgraded, 3 newly installed, 0 to remove and 29 not upgraded.\n",
            "Need to get 324 kB of archives.\n",
            "After this operation, 1,148 kB of additional disk space will be used.\n",
            "Get:1 http://archive.ubuntu.com/ubuntu jammy/main amd64 flex amd64 2.6.4-8build2 [307 kB]\n",
            "Get:2 http://archive.ubuntu.com/ubuntu jammy/main amd64 libfl2 amd64 2.6.4-8build2 [10.7 kB]\n",
            "Get:3 http://archive.ubuntu.com/ubuntu jammy/main amd64 libfl-dev amd64 2.6.4-8build2 [6,236 B]\n",
            "Fetched 324 kB in 1s (504 kB/s)\n",
            "Selecting previously unselected package flex.\n",
            "(Reading database ... 126209 files and directories currently installed.)\n",
            "Preparing to unpack .../flex_2.6.4-8build2_amd64.deb ...\n",
            "Unpacking flex (2.6.4-8build2) ...\n",
            "Selecting previously unselected package libfl2:amd64.\n",
            "Preparing to unpack .../libfl2_2.6.4-8build2_amd64.deb ...\n",
            "Unpacking libfl2:amd64 (2.6.4-8build2) ...\n",
            "Selecting previously unselected package libfl-dev:amd64.\n",
            "Preparing to unpack .../libfl-dev_2.6.4-8build2_amd64.deb ...\n",
            "Unpacking libfl-dev:amd64 (2.6.4-8build2) ...\n",
            "Setting up flex (2.6.4-8build2) ...\n",
            "Setting up libfl2:amd64 (2.6.4-8build2) ...\n",
            "Setting up libfl-dev:amd64 (2.6.4-8build2) ...\n",
            "Processing triggers for man-db (2.10.2-1) ...\n",
            "Processing triggers for libc-bin (2.35-0ubuntu3.8) ...\n",
            "/sbin/ldconfig.real: /usr/local/lib/libtbb.so.12 is not a symbolic link\n",
            "\n",
            "/sbin/ldconfig.real: /usr/local/lib/libtcm_debug.so.1 is not a symbolic link\n",
            "\n",
            "/sbin/ldconfig.real: /usr/local/lib/libtcm.so.1 is not a symbolic link\n",
            "\n",
            "/sbin/ldconfig.real: /usr/local/lib/libtbbmalloc.so.2 is not a symbolic link\n",
            "\n",
            "/sbin/ldconfig.real: /usr/local/lib/libumf.so.0 is not a symbolic link\n",
            "\n",
            "/sbin/ldconfig.real: /usr/local/lib/libur_adapter_level_zero.so.0 is not a symbolic link\n",
            "\n",
            "/sbin/ldconfig.real: /usr/local/lib/libtbbbind_2_5.so.3 is not a symbolic link\n",
            "\n",
            "/sbin/ldconfig.real: /usr/local/lib/libur_loader.so.0 is not a symbolic link\n",
            "\n",
            "/sbin/ldconfig.real: /usr/local/lib/libtbbbind_2_0.so.3 is not a symbolic link\n",
            "\n",
            "/sbin/ldconfig.real: /usr/local/lib/libtbbbind.so.3 is not a symbolic link\n",
            "\n",
            "/sbin/ldconfig.real: /usr/local/lib/libur_adapter_opencl.so.0 is not a symbolic link\n",
            "\n",
            "/sbin/ldconfig.real: /usr/local/lib/libtbbmalloc_proxy.so.2 is not a symbolic link\n",
            "\n",
            "/sbin/ldconfig.real: /usr/local/lib/libhwloc.so.15 is not a symbolic link\n",
            "\n",
            "Reading package lists... Done\n",
            "Building dependency tree... Done\n",
            "Reading state information... Done\n",
            "Suggested packages:\n",
            "  bison-doc\n",
            "The following NEW packages will be installed:\n",
            "  bison\n",
            "0 upgraded, 1 newly installed, 0 to remove and 29 not upgraded.\n",
            "Need to get 748 kB of archives.\n",
            "After this operation, 2,519 kB of additional disk space will be used.\n",
            "Get:1 http://archive.ubuntu.com/ubuntu jammy/main amd64 bison amd64 2:3.8.2+dfsg-1build1 [748 kB]\n",
            "Fetched 748 kB in 0s (5,707 kB/s)\n",
            "Selecting previously unselected package bison.\n",
            "(Reading database ... 126299 files and directories currently installed.)\n",
            "Preparing to unpack .../bison_2%3a3.8.2+dfsg-1build1_amd64.deb ...\n",
            "Unpacking bison (2:3.8.2+dfsg-1build1) ...\n",
            "Setting up bison (2:3.8.2+dfsg-1build1) ...\n",
            "update-alternatives: using /usr/bin/bison.yacc to provide /usr/bin/yacc (yacc) in auto mode\n",
            "Processing triggers for man-db (2.10.2-1) ...\n"
          ]
        }
      ]
    },
    {
      "cell_type": "code",
      "source": [
        "!apt-get update\n",
        "!apt-get install -y flex gcc bison\n",
        "!flex --version\n",
        "!gcc --version\n",
        "!bison --version\n",
        "!apt-get update\n",
        "!apt-get install -y flex bison gcc\n",
        "\n"
      ],
      "metadata": {
        "colab": {
          "base_uri": "https://localhost:8080/"
        },
        "id": "3mNs2x7vUCjC",
        "outputId": "63e4a941-4766-4537-aa42-e9a5e7edb656"
      },
      "execution_count": null,
      "outputs": [
        {
          "output_type": "stream",
          "name": "stdout",
          "text": [
            "\r0% [Working]\r            \rGet:1 http://security.ubuntu.com/ubuntu jammy-security InRelease [129 kB]\n",
            "\r0% [Connecting to archive.ubuntu.com (185.125.190.82)] [1 InRelease 14.2 kB/129 kB 11%] [Connected t\r                                                                                                    \rHit:2 https://cloud.r-project.org/bin/linux/ubuntu jammy-cran40/ InRelease\n",
            "\r0% [Connecting to archive.ubuntu.com (185.125.190.82)] [1 InRelease 129 kB/129 kB 100%] [Connected t\r0% [Connecting to archive.ubuntu.com (185.125.190.82)] [Connected to r2u.stat.illinois.edu (192.17.1\r                                                                                                    \rHit:3 https://developer.download.nvidia.com/compute/cuda/repos/ubuntu2204/x86_64  InRelease\n",
            "\r0% [Waiting for headers] [Waiting for headers] [Connected to ppa.launchpadcontent.net (185.125.190.8\r                                                                                                    \rHit:4 http://archive.ubuntu.com/ubuntu jammy InRelease\n",
            "\r0% [Waiting for headers] [Waiting for headers] [Connected to ppa.launchpadcontent.net (185.125.190.8\r                                                                                                    \rHit:5 https://r2u.stat.illinois.edu/ubuntu jammy InRelease\n",
            "Hit:6 http://archive.ubuntu.com/ubuntu jammy-updates InRelease\n",
            "Hit:7 http://archive.ubuntu.com/ubuntu jammy-backports InRelease\n",
            "Hit:8 https://ppa.launchpadcontent.net/deadsnakes/ppa/ubuntu jammy InRelease\n",
            "Hit:9 https://ppa.launchpadcontent.net/graphics-drivers/ppa/ubuntu jammy InRelease\n",
            "Hit:10 https://ppa.launchpadcontent.net/ubuntugis/ppa/ubuntu jammy InRelease\n",
            "Fetched 129 kB in 1s (102 kB/s)\n",
            "Reading package lists... Done\n",
            "W: Skipping acquire of configured file 'main/source/Sources' as repository 'https://r2u.stat.illinois.edu/ubuntu jammy InRelease' does not seem to provide it (sources.list entry misspelt?)\n",
            "Reading package lists... Done\n",
            "Building dependency tree... Done\n",
            "Reading state information... Done\n",
            "bison is already the newest version (2:3.8.2+dfsg-1build1).\n",
            "flex is already the newest version (2.6.4-8build2).\n",
            "gcc is already the newest version (4:11.2.0-1ubuntu1).\n",
            "0 upgraded, 0 newly installed, 0 to remove and 30 not upgraded.\n",
            "flex 2.6.4\n",
            "gcc (Ubuntu 11.4.0-1ubuntu1~22.04) 11.4.0\n",
            "Copyright (C) 2021 Free Software Foundation, Inc.\n",
            "This is free software; see the source for copying conditions.  There is NO\n",
            "warranty; not even for MERCHANTABILITY or FITNESS FOR A PARTICULAR PURPOSE.\n",
            "\n",
            "bison (GNU Bison) 3.8.2\n",
            "Written by Robert Corbett and Richard Stallman.\n",
            "\n",
            "Copyright (C) 2021 Free Software Foundation, Inc.\n",
            "This is free software; see the source for copying conditions.  There is NO\n",
            "warranty; not even for MERCHANTABILITY or FITNESS FOR A PARTICULAR PURPOSE.\n",
            "Hit:1 https://cloud.r-project.org/bin/linux/ubuntu jammy-cran40/ InRelease\n",
            "Hit:2 https://developer.download.nvidia.com/compute/cuda/repos/ubuntu2204/x86_64  InRelease\n",
            "Hit:3 http://security.ubuntu.com/ubuntu jammy-security InRelease\n",
            "Hit:4 http://archive.ubuntu.com/ubuntu jammy InRelease\n",
            "Hit:5 https://r2u.stat.illinois.edu/ubuntu jammy InRelease\n",
            "Hit:6 http://archive.ubuntu.com/ubuntu jammy-updates InRelease\n",
            "Hit:7 http://archive.ubuntu.com/ubuntu jammy-backports InRelease\n",
            "Hit:8 https://ppa.launchpadcontent.net/deadsnakes/ppa/ubuntu jammy InRelease\n",
            "Hit:9 https://ppa.launchpadcontent.net/graphics-drivers/ppa/ubuntu jammy InRelease\n",
            "Hit:10 https://ppa.launchpadcontent.net/ubuntugis/ppa/ubuntu jammy InRelease\n",
            "Reading package lists... Done\n",
            "W: Skipping acquire of configured file 'main/source/Sources' as repository 'https://r2u.stat.illinois.edu/ubuntu jammy InRelease' does not seem to provide it (sources.list entry misspelt?)\n",
            "Reading package lists... Done\n",
            "Building dependency tree... Done\n",
            "Reading state information... Done\n",
            "bison is already the newest version (2:3.8.2+dfsg-1build1).\n",
            "flex is already the newest version (2.6.4-8build2).\n",
            "gcc is already the newest version (4:11.2.0-1ubuntu1).\n",
            "0 upgraded, 0 newly installed, 0 to remove and 30 not upgraded.\n"
          ]
        }
      ]
    },
    {
      "cell_type": "code",
      "source": [
        "#Program to count the number of characters, words, spaces,\n",
        "#end of lines in a given input file\n",
        "\n",
        "%%writefile wordcount.l\n",
        "%{\n",
        "#include <stdio.h>\n",
        "int charC = 0, wordC = 0, spaceC = 0, lineC = 0;\n",
        "%}\n",
        "\n",
        "%%\n",
        "[ \\t]        { spaceC++; charC++; }\n",
        "[a-zA-Z]+    { wordC++; charC += yyleng; }\n",
        ".            { charC++; }  //\n",
        "\\n           { lineC++; charC++; }\n",
        "%%\n",
        "\n",
        "int main() {\n",
        "    yylex();\n",
        "    printf(\"Characters: %d\\n\", charC);\n",
        "    printf(\"Words: %d\\n\", wordC);\n",
        "    printf(\"Spaces: %d\\n\", spaceC);\n",
        "    printf(\"Lines: %d\\n\", lineC);\n",
        "    return 0;\n",
        "}\n",
        "\n",
        "int yywrap() {\n",
        "    return 1;\n",
        "}\n",
        "\n"
      ],
      "metadata": {
        "colab": {
          "base_uri": "https://localhost:8080/"
        },
        "id": "MBW1JSnNXSPl",
        "outputId": "31c52674-4491-4449-e732-12f623c7d4ef"
      },
      "execution_count": null,
      "outputs": [
        {
          "output_type": "stream",
          "name": "stdout",
          "text": [
            "Overwriting wordcount.l\n"
          ]
        }
      ]
    },
    {
      "cell_type": "code",
      "source": [
        "!flex wordcount.l\n",
        "!gcc lex.yy.c -o wordcount -lfl\n"
      ],
      "metadata": {
        "id": "uOZR30lHkLM0"
      },
      "execution_count": null,
      "outputs": []
    },
    {
      "cell_type": "code",
      "source": [
        "%%writefile input.txt\n",
        "Hello world\n",
        "A test file has\n",
        " multiple lines\n",
        "And some spaces"
      ],
      "metadata": {
        "colab": {
          "base_uri": "https://localhost:8080/"
        },
        "id": "_cPjmnKddc5j",
        "outputId": "ce229a29-e6fb-477d-9bd1-f3ddaf3c79af"
      },
      "execution_count": null,
      "outputs": [
        {
          "output_type": "stream",
          "name": "stdout",
          "text": [
            "Overwriting input.txt\n"
          ]
        }
      ]
    },
    {
      "cell_type": "code",
      "source": [
        "!./wordcount < input.txt\n"
      ],
      "metadata": {
        "colab": {
          "base_uri": "https://localhost:8080/"
        },
        "id": "xZFyG7zIixYZ",
        "outputId": "c6dc4f40-8baf-4ac0-99d9-8247d3cb15df"
      },
      "execution_count": null,
      "outputs": [
        {
          "output_type": "stream",
          "name": "stdout",
          "text": [
            "Characters: 60\n",
            "Words: 11\n",
            "Spaces: 8\n",
            "Lines: 4\n"
          ]
        }
      ]
    },
    {
      "cell_type": "code",
      "source": [
        "#  validate an email address:\n",
        "\n",
        "%%writefile email_valid.l\n",
        "%{\n",
        "#include <stdio.h>\n",
        "int valid = 0;\n",
        "%}\n",
        "\n",
        "%%\n",
        "\n",
        "[a-zA-Z0-9._%+-]+@[a-zA-Z0-9.-]+\\.[a-zA-Z]{2,}    { valid = 1; printf(\"Valid email: %s\\n\", yytext); }\n",
        "\\n                                                 { if (!valid) printf(\"Invalid email\\n\"); valid = 0; }\n",
        "[ \\t]                                              { /* ignore spaces and tabs */ }\n",
        ".                                                  { /* ignore other characters until newline */ }\n",
        "\n",
        "%%\n",
        "\n",
        "int main() {\n",
        "    printf(\"Enter email: \");\n",
        "    yylex();\n",
        "    return 0;\n",
        "}\n",
        "\n",
        "int yywrap() {\n",
        "    return 1;\n",
        "}"
      ],
      "metadata": {
        "colab": {
          "base_uri": "https://localhost:8080/"
        },
        "id": "TX7zkjf7mTTi",
        "outputId": "6c4b8443-9790-48d4-9b51-c2eb3f927174"
      },
      "execution_count": null,
      "outputs": [
        {
          "output_type": "stream",
          "name": "stdout",
          "text": [
            "Overwriting email_valid.l\n"
          ]
        }
      ]
    },
    {
      "cell_type": "code",
      "source": [
        "!flex email_valid.l\n",
        "!gcc lex.yy.c -o email_valid -lfl\n"
      ],
      "metadata": {
        "id": "nxsagWo3o7Op"
      },
      "execution_count": null,
      "outputs": []
    },
    {
      "cell_type": "code",
      "source": [
        "%%writefile email_valid_input.txt\n",
        "etsubdinkcom.@gmail\n",
        "putaddresgmail.com\n",
        "test@hour.com\n",
        "etsubdinkdesalegnadamu@gmail.com\n"
      ],
      "metadata": {
        "colab": {
          "base_uri": "https://localhost:8080/"
        },
        "id": "xkW6XVQFnABS",
        "outputId": "a8e53db5-4df3-4f53-f3ac-8fa78c4729a4"
      },
      "execution_count": null,
      "outputs": [
        {
          "output_type": "stream",
          "name": "stdout",
          "text": [
            "Overwriting email_valid_input.txt\n"
          ]
        }
      ]
    },
    {
      "cell_type": "code",
      "source": [
        "!./email_valid < email_valid_input.txt"
      ],
      "metadata": {
        "colab": {
          "base_uri": "https://localhost:8080/"
        },
        "id": "YPpj4mPYnp36",
        "outputId": "d3d053b8-e75b-4f65-ea23-a2399feaf363"
      },
      "execution_count": null,
      "outputs": [
        {
          "output_type": "stream",
          "name": "stdout",
          "text": [
            "Enter email: Invalid email\n",
            "Invalid email\n",
            "Valid email: test@hour.com\n",
            "Valid email: etsubdinkdesalegnadamu@gmail.com\n"
          ]
        }
      ]
    },
    {
      "cell_type": "code",
      "source": [
        "#Program to validate password rule (length > 8,\n",
        "# contains uppercase, lowercase, digit, and special character):\n",
        "\n",
        "%%writefile password_valid.l\n",
        "%{\n",
        "#include <stdio.h>\n",
        "#include <string.h>\n",
        "\n",
        "int valid = 0;\n",
        "%}\n",
        "\n",
        "%%\n",
        "\n",
        "[A-Za-z0-9!@#$%^&*]{8,}    {\n",
        "    int upper = 0, lower = 0, digit = 0, special = 0;\n",
        "    char *ptr = yytext;\n",
        "    while (*ptr) {\n",
        "        if (*ptr >= 'A' && *ptr <= 'Z') upper = 1;\n",
        "        else if (*ptr >= 'a' && *ptr <= 'z') lower = 1;\n",
        "        else if (*ptr >= '0' && *ptr <= '9') digit = 1;\n",
        "        else if (strchr(\"!@#$%^&*\", *ptr)) special = 1;\n",
        "        ptr++;\n",
        "    }\n",
        "    if (upper && lower && digit && special) {\n",
        "        valid = 1;\n",
        "        printf(\"Valid password: %s\\n\", yytext);\n",
        "    }\n",
        "}\n",
        "\\n                         { if (!valid) printf(\"Invalid password\\n\"); valid = 0; }\n",
        "[ \\t]                      { /* ignore spaces and tabs */ }\n",
        ".                          { /* ignore other characters */ }\n",
        "\n",
        "%%\n",
        "\n",
        "int main() {\n",
        "    char password[256];\n",
        "\n",
        "    printf(\"Enter your correct password: \");\n",
        "\n",
        "\n",
        "    FILE *file = fopen(\"password_valid_input.txt\", \"r\");\n",
        "    if (file == NULL) {\n",
        "        printf(\"Error to opening the file\\n\");\n",
        "        return 1;\n",
        "    }\n",
        "\n",
        "    while (fgets(password, sizeof(password), file)) {\n",
        "        password[strcspn(password, \"\\n\")] = 0;\n",
        "        YY_BUFFER_STATE buffer = yy_scan_string(password);\n",
        "        yylex();\n",
        "\n",
        "        if (!valid) {\n",
        "            printf(\" you entered Invalid password: %s\\n\", password);\n",
        "        }\n",
        "\n",
        "\n",
        "        valid = 0;\n",
        "\n",
        "        yy_delete_buffer(buffer);\n",
        "    }\n",
        "\n",
        "    fclose(file);\n",
        "    return 0;\n",
        "}\n",
        "\n",
        "int yywrap() {\n",
        "    return 1;\n",
        "}\n",
        "\n",
        "\n"
      ],
      "metadata": {
        "colab": {
          "base_uri": "https://localhost:8080/"
        },
        "id": "gRe4WIYQxM1g",
        "outputId": "27294c43-edc4-41d2-bbe2-60a945ba4029"
      },
      "execution_count": null,
      "outputs": [
        {
          "output_type": "stream",
          "name": "stdout",
          "text": [
            "Overwriting password_valid.l\n"
          ]
        }
      ]
    },
    {
      "cell_type": "code",
      "source": [
        "!flex password_valid.l\n",
        "!gcc lex.yy.c -o password_validator -lfl\n",
        "\n"
      ],
      "metadata": {
        "id": "z8AqI5YHyNWC"
      },
      "execution_count": null,
      "outputs": []
    },
    {
      "cell_type": "code",
      "source": [
        "%%writefile password_valid_input.txt\n",
        "Etsub123!\n",
        "password\n",
        "special$12\n",
        "96345237\n",
        "%$^&*rt\n"
      ],
      "metadata": {
        "colab": {
          "base_uri": "https://localhost:8080/"
        },
        "id": "koTeJz940aGb",
        "outputId": "4e0c19b9-35c2-4f31-a900-43277199e14c"
      },
      "execution_count": null,
      "outputs": [
        {
          "output_type": "stream",
          "name": "stdout",
          "text": [
            "Overwriting password_valid_input.txt\n"
          ]
        }
      ]
    },
    {
      "cell_type": "code",
      "source": [
        "!./password_validator < password_valid_input.txt"
      ],
      "metadata": {
        "colab": {
          "base_uri": "https://localhost:8080/"
        },
        "id": "Hm4ErGjj1eoQ",
        "outputId": "4594e148-a2ec-41ff-f007-5b4783126c92"
      },
      "execution_count": null,
      "outputs": [
        {
          "output_type": "stream",
          "name": "stdout",
          "text": [
            "Enter your correct password: Valid password: Etsub123!\n",
            " you entered Invalid password: password\n",
            " you entered Invalid password: special$12\n",
            " you entered Invalid password: 96345237\n",
            " you entered Invalid password: %$^&*rt\n"
          ]
        }
      ]
    },
    {
      "cell_type": "code",
      "source": [
        "# Lex program to implement a simple calculator:\n",
        "\n",
        "%%writefile simple_calculator.l\n",
        "%{\n",
        "#include <stdio.h>\n",
        "#include <stdlib.h>\n",
        "\n",
        "float finalresult = 0.0;\n",
        "float operand = 0.0;\n",
        "char operation = '+';\n",
        "%}\n",
        "\n",
        "%%\n",
        "\n",
        "\n",
        "[0-9]+(\\.[0-9]+)?     {\n",
        "    operand = atof(yytext);\n",
        "    switch (operation) {\n",
        "        case '+': finalresult += operand; break;\n",
        "        case '-': finalresult -= operand; break;\n",
        "        case '*': finalresult *= operand; break;\n",
        "        case '/':\n",
        "            if (operand != 0)\n",
        "                finalresult /= operand;\n",
        "            else\n",
        "                printf(\"Error: Division by zero is forbidden!\\n\");\n",
        "            break;\n",
        "    }\n",
        "}\n",
        "\n",
        "\n",
        "\"+\"                    { operation = '+'; }\n",
        "\"-\"                    { operation = '-'; }\n",
        "\"*\"                    { operation = '*'; }\n",
        "\"/\"                    { operation = '/'; }\n",
        "\n",
        "\n",
        "\\n                     {\n",
        "                         printf(\"Result: %.2f\\n\", finalresult);\n",
        "                         finalresult = 0;\n",
        "                         operation = '+';\n",
        "                     }\n",
        "\n",
        "\n",
        "[ \\t]                  { /* Ignore spaces and tabs */ }\n",
        "\n",
        "\n",
        ".                      { /* Ignore any non-relevant characters */ }\n",
        "\n",
        "%%\n",
        "\n",
        "int main() {\n",
        "    printf(\"Enter expression (e.g., 10 * 3.5): \");\n",
        "    yylex();\n",
        "    return 0;\n",
        "}\n",
        "\n",
        "int yywrap() {\n",
        "    return 1;\n",
        "}\n"
      ],
      "metadata": {
        "colab": {
          "base_uri": "https://localhost:8080/"
        },
        "id": "8LUfgNok3h_r",
        "outputId": "02d1412d-d746-4e50-fb6c-0db2a6461ea0"
      },
      "execution_count": null,
      "outputs": [
        {
          "output_type": "stream",
          "name": "stdout",
          "text": [
            "Writing simple_calculator.l\n"
          ]
        }
      ]
    },
    {
      "cell_type": "code",
      "source": [
        "!flex simple_calculator.l\n",
        "!gcc lex.yy.c -o simple_calculator -lfl\n"
      ],
      "metadata": {
        "id": "idOFrQ6w7wLs"
      },
      "execution_count": null,
      "outputs": []
    },
    {
      "cell_type": "code",
      "source": [
        "%%writefile simple_calculator_input.txt\n",
        "100 / 0\n",
        "25 * 3.75\n",
        "28.9 + 1.3\n",
        "35 - 1"
      ],
      "metadata": {
        "colab": {
          "base_uri": "https://localhost:8080/"
        },
        "id": "a1trV-Mb73xn",
        "outputId": "3d494b95-1711-4b64-abac-d53bd0cef56b"
      },
      "execution_count": null,
      "outputs": [
        {
          "output_type": "stream",
          "name": "stdout",
          "text": [
            "Overwriting simple_calculator_input.txt\n"
          ]
        }
      ]
    },
    {
      "cell_type": "code",
      "source": [
        "!./simple_calculator < simple_calculator_input.txt"
      ],
      "metadata": {
        "colab": {
          "base_uri": "https://localhost:8080/"
        },
        "id": "Ks1sf9rJ8C5F",
        "outputId": "ba24a5b0-d017-4b51-9016-7aba31f556ff"
      },
      "execution_count": null,
      "outputs": [
        {
          "output_type": "stream",
          "name": "stdout",
          "text": [
            "Enter expression (e.g., 10 * 3.5): Error: Division by zero is forbidden!\n",
            "Result: 100.00\n",
            "Result: 93.75\n",
            "Result: 30.20\n",
            "Result: 34.00\n"
          ]
        }
      ]
    },
    {
      "cell_type": "code",
      "source": [
        "!apt-get install flex bison\n"
      ],
      "metadata": {
        "colab": {
          "base_uri": "https://localhost:8080/"
        },
        "id": "Q-645MIvD4MB",
        "outputId": "382c16ab-807c-4da8-ff1a-83c88ee00fee"
      },
      "execution_count": null,
      "outputs": [
        {
          "output_type": "stream",
          "name": "stdout",
          "text": [
            "Reading package lists... Done\n",
            "Building dependency tree... Done\n",
            "Reading state information... Done\n",
            "bison is already the newest version (2:3.8.2+dfsg-1build1).\n",
            "flex is already the newest version (2.6.4-8build2).\n",
            "0 upgraded, 0 newly installed, 0 to remove and 30 not upgraded.\n"
          ]
        }
      ]
    },
    {
      "cell_type": "code",
      "source": [
        "# Program to validate a URL:\n",
        "\n",
        "%%writefile urlValidate.l\n",
        "%{\n",
        "#include <stdio.h>\n",
        "int isValid = 0;\n",
        "char urlBuffer[1024];\n",
        "int bufferPosition = 0;\n",
        "%}\n",
        "\n",
        "%%\n",
        "\n",
        "(http|https):\\/\\/[a-zA-Z0-9.-]+\\.[a-zA-Z]{2,}(\\/[a-zA-Z0-9._-]*)*\\/? {\n",
        "    isValid = 1;\n",
        "    printf(\"Valid URL: %s\\n\", yytext);\n",
        "    bufferPosition = 0;\n",
        "    urlBuffer[0] = '\\0';\n",
        "}\n",
        "\n",
        "[^ \\t\\n]+ {\n",
        "    if (!isValid) {\n",
        "        int i = 0;\n",
        "        while (yytext[i] != '\\0' && bufferPosition < 1023) {\n",
        "            urlBuffer[bufferPosition++] = yytext[i++];\n",
        "        }\n",
        "        urlBuffer[bufferPosition] = '\\0';\n",
        "    }\n",
        "}\n",
        "\n",
        "\\n {\n",
        "    if (!isValid && bufferPosition > 0) {\n",
        "        printf(\"Invalid URL: %s\\n\", urlBuffer);\n",
        "    }\n",
        "    isValid = 0;\n",
        "    bufferPosition = 0;\n",
        "    urlBuffer[0] = '\\0';\n",
        "}\n",
        "\n",
        "[ \\t] { /* Ignore whitespace */ }\n",
        "\n",
        "%%\n",
        "\n",
        "int main() {\n",
        "    printf(\"Enter URL: \");\n",
        "    fflush(stdout);\n",
        "    yylex();\n",
        "    return 0;\n",
        "}\n",
        "\n",
        "int yywrap() {\n",
        "    return 1;\n",
        "}\n",
        "\n",
        "\n",
        "\n"
      ],
      "metadata": {
        "colab": {
          "base_uri": "https://localhost:8080/"
        },
        "id": "Jbz65Ccu8eQJ",
        "outputId": "c064ac66-72d7-46e9-8006-f00aff7aee93"
      },
      "execution_count": null,
      "outputs": [
        {
          "output_type": "stream",
          "name": "stdout",
          "text": [
            "Overwriting urlValidate.l\n"
          ]
        }
      ]
    },
    {
      "cell_type": "code",
      "source": [
        "!flex urlValidate.l\n",
        "!gcc lex.yy.c -o urlValidate -lfl"
      ],
      "metadata": {
        "id": "3JvLLBYNANrw"
      },
      "execution_count": null,
      "outputs": []
    },
    {
      "cell_type": "code",
      "source": [
        "%%writefile urlValidateInput.txt\n",
        "https://www.example.com\n",
        "http://example.org\n",
        "ftp://example.com\n",
        "https://subdomain.example.com/path/to/resource\n",
        "invalid-url.com\n",
        "https://www.test123.com/test?query=1\n",
        "www.missingprotocol.com\n",
        "https://another-example.net\n"
      ],
      "metadata": {
        "colab": {
          "base_uri": "https://localhost:8080/"
        },
        "id": "NlaV5myaGozT",
        "outputId": "de7b7958-ad09-4eec-a13b-2f15eb6930e0"
      },
      "execution_count": null,
      "outputs": [
        {
          "output_type": "stream",
          "name": "stdout",
          "text": [
            "Writing urlValidateInput.txt\n"
          ]
        }
      ]
    },
    {
      "cell_type": "code",
      "source": [
        "!./urlValidate < urlValidateInput.txt"
      ],
      "metadata": {
        "colab": {
          "base_uri": "https://localhost:8080/"
        },
        "id": "BaiqGTrLHHji",
        "outputId": "de750ad4-18ae-4c65-8850-4d44bb280170"
      },
      "execution_count": null,
      "outputs": [
        {
          "output_type": "stream",
          "name": "stdout",
          "text": [
            "Enter URL: Valid URL: https://www.example.com\n",
            "Valid URL: http://example.org\n",
            "Invalid URL: ftp://example.com\n",
            "Valid URL: https://subdomain.example.com/path/to/resource\n",
            "Invalid URL: invalid-url.com\n",
            "Invalid URL: https://www.test123.com/test?query=1\n",
            "Invalid URL: www.missingprotocol.com\n",
            "Valid URL: https://another-example.net\n"
          ]
        }
      ]
    },
    {
      "cell_type": "code",
      "source": [
        "# Program to validate Woldia University student ID\n",
        "\n",
        "%%writefile student_id_validator.l\n",
        "%{\n",
        "#include <stdio.h>\n",
        "char input_buffer[1024];\n",
        "int position = 0;\n",
        "%}\n",
        "\n",
        "%%\n",
        "\n",
        "WDU[0-9]{4,5}  {\n",
        "    printf(\"Valid ID: %s\\n\", yytext);\n",
        "    position = 0;\n",
        "    input_buffer[0] = '\\0';\n",
        "}\n",
        "\n",
        "[^ \\t\\n]+       {\n",
        "    int i = 0;\n",
        "    while (yytext[i] != '\\0' && position < 1023) {\n",
        "        input_buffer[position++] = yytext[i++];\n",
        "    }\n",
        "    input_buffer[position] = '\\0';\n",
        "}\n",
        "\n",
        "\\n              {\n",
        "    if (position > 0) {\n",
        "        printf(\"Invalid ID: %s\\n\", input_buffer);\n",
        "    }\n",
        "    position = 0;\n",
        "    input_buffer[0] = '\\0';\n",
        "}\n",
        "\n",
        "[ \\t]           { /* Ignore whitespace */ }\n",
        "\n",
        "%%\n",
        "\n",
        "int main() {\n",
        "    printf(\"Enter student ID: \");\n",
        "    fflush(stdout);\n",
        "    yylex();\n",
        "    return 0;\n",
        "}\n",
        "\n",
        "int yywrap() {\n",
        "    return 1;\n",
        "}\n"
      ],
      "metadata": {
        "colab": {
          "base_uri": "https://localhost:8080/"
        },
        "id": "94igrVKpHOv8",
        "outputId": "24f0f7e4-85a3-46cf-e278-f58de5de18f1"
      },
      "execution_count": null,
      "outputs": [
        {
          "output_type": "stream",
          "name": "stdout",
          "text": [
            "Overwriting student_id_validator.l\n"
          ]
        }
      ]
    },
    {
      "cell_type": "code",
      "source": [
        "!flex student_id_validator.l\n",
        "!gcc lex.yy.c -o student_id_validator -ll\n"
      ],
      "metadata": {
        "id": "EpCgwIwbJPUL"
      },
      "execution_count": null,
      "outputs": []
    },
    {
      "cell_type": "code",
      "source": [
        "%%writefile student_id_validatorInput.txt\n",
        "WDU146018\n",
        "WDU156789\n",
        "WDU1234\n",
        "WDU2468\n",
        "WDU14987\n",
        "WDU15012\n",
        "WDU15678\n",
        "abcde\n",
        "WDU201401\n",
        "\n"
      ],
      "metadata": {
        "colab": {
          "base_uri": "https://localhost:8080/"
        },
        "id": "IGq4yvZ_Jc6V",
        "outputId": "1c17e1dd-774a-412d-b556-54ad9e9f879d"
      },
      "execution_count": null,
      "outputs": [
        {
          "output_type": "stream",
          "name": "stdout",
          "text": [
            "Overwriting student_id_validatorInput.txt\n"
          ]
        }
      ]
    },
    {
      "cell_type": "code",
      "source": [
        "!./student_id_validator < student_id_validatorInput.txt"
      ],
      "metadata": {
        "colab": {
          "base_uri": "https://localhost:8080/"
        },
        "id": "IWUQXHFUJ2Vk",
        "outputId": "5312a1b9-35a4-4418-d15c-86afb8cbc4b5"
      },
      "execution_count": null,
      "outputs": [
        {
          "output_type": "stream",
          "name": "stdout",
          "text": [
            "Enter student ID: Invalid ID: WDU146018\n",
            "Invalid ID: WDU156789\n",
            "Valid ID: WDU1234\n",
            "Valid ID: WDU2468\n",
            "Valid ID: WDU14987\n",
            "Valid ID: WDU15012\n",
            "Valid ID: WDU15678\n",
            "Invalid ID: abcde\n",
            "Invalid ID: WDU201401\n"
          ]
        }
      ]
    },
    {
      "cell_type": "code",
      "source": [
        "#Program to recognize at least 5 well-known human language\n",
        "#characters/scripts including Amharic/Ge'ez scripts:\n",
        "%%writefile humanLanguage.1\n",
        "%{\n",
        "#include <stdio.h>\n",
        "#include <stdlib.h>\n",
        "\n",
        "/* Counters for each script */\n",
        "int ethiopic_count = 0;\n",
        "int english_count = 0;\n",
        "int mandarin_count = 0;\n",
        "int sanskrit_count = 0;\n",
        "int middle_eastern_count = 0;\n",
        "int unknown_count = 0;\n",
        "%}\n",
        "\n",
        "/* Enable Unicode support */\n",
        "%option noyywrap\n",
        "%option 8bit\n",
        "%option nounput\n",
        "%option noinput\n",
        "\n",
        "/* Define UTF-8 character patterns */\n",
        "ENGLISH       [a-zA-Z]\n",
        "ETHIOPIC      [\\xE1][\\x88-\\x8D][\\x80-\\xBF]+\n",
        "MANDARIN      [\\xE4-\\xE9][\\x80-\\xBF]+\n",
        "SANSKRIT      [\\xE0][\\xA4-\\xA5][\\x80-\\xBF]+\n",
        "MIDDLE_EASTERN \\xD8[\\xA0-\\xBF]|\\xD9[\\x80-\\xBF]+\n",
        "UTF8_UNKNOWN  [\\xC0-\\xFF]+\n",
        "\n",
        "%%\n",
        "\n",
        "{ENGLISH}      { printf(\"English: %s\\n\", yytext); english_count++; }\n",
        "{ETHIOPIC}     { printf(\"Ethiopic (Ge'ez): %s\\n\", yytext); ethiopic_count++; }\n",
        "{MANDARIN}     { printf(\"Mandarin: %s\\n\", yytext); mandarin_count++; }\n",
        "{SANSKRIT}     { printf(\"Sanskrit: %s\\n\", yytext); sanskrit_count++; }\n",
        "{MIDDLE_EASTERN} { printf(\"Middle Eastern: %s\\n\", yytext); middle_eastern_count++; }\n",
        "{UTF8_UNKNOWN} { printf(\"Unrecognized UTF-8: %s\\n\", yytext); unknown_count++; }\n",
        ".|\\n           { unknown_count++; }\n",
        "\n",
        "%%\n",
        "\n",
        "int main() {\n",
        "    printf(\"Enter text:\\n\");\n",
        "    yylex();\n",
        "\n",
        "    /* Print Summary */\n",
        "    printf(\"\\n Summary \\n\\n\");\n",
        "    printf(\"Ethiopic (Ge'ez) characters: %d\\n\", ethiopic_count);\n",
        "    printf(\"English characters: %d\\n\", english_count);\n",
        "    printf(\"Mandarin characters: %d\\n\", mandarin_count);\n",
        "    printf(\"Sanskrit characters: %d\\n\", sanskrit_count);\n",
        "    printf(\"Middle Eastern characters: %d\\n\", middle_eastern_count);\n",
        "    printf(\"Unrecognized characters: %d\\n\", unknown_count);\n",
        "\n",
        "    return 0;\n",
        "}\n"
      ],
      "metadata": {
        "colab": {
          "base_uri": "https://localhost:8080/"
        },
        "id": "ndXJQHyANbTP",
        "outputId": "7d7d9301-2b37-44ef-a637-4a3ccad0353f"
      },
      "execution_count": null,
      "outputs": [
        {
          "output_type": "stream",
          "name": "stdout",
          "text": [
            "Overwriting humanLanguage.1\n"
          ]
        }
      ]
    },
    {
      "cell_type": "code",
      "source": [
        "!flex humanLanguage.1\n",
        "!gcc lex.yy.c -o humanLanguage -lfl"
      ],
      "metadata": {
        "id": "Y4fgEqO-QUjr"
      },
      "execution_count": null,
      "outputs": []
    },
    {
      "cell_type": "code",
      "source": [
        "%%writefile humanLanguageInput\n",
        "Good morning! እንዴት ነህ? 你好 你好吗？ नमस्ते दोस्तों مرحبا! هل أنت بخير؟\n"
      ],
      "metadata": {
        "colab": {
          "base_uri": "https://localhost:8080/"
        },
        "id": "Ru1eGY-AQkFs",
        "outputId": "afc80893-1710-4732-d6ca-f80ee3bff3a6"
      },
      "execution_count": null,
      "outputs": [
        {
          "output_type": "stream",
          "name": "stdout",
          "text": [
            "Overwriting humanLanguageInput\n"
          ]
        }
      ]
    },
    {
      "cell_type": "code",
      "source": [
        "!./humanLanguage < humanLanguageInput"
      ],
      "metadata": {
        "colab": {
          "base_uri": "https://localhost:8080/"
        },
        "id": "rWQ4KwFDQtXS",
        "outputId": "e57fcf8b-ab3c-4fc1-9b47-29ee5220cdc1"
      },
      "execution_count": null,
      "outputs": [
        {
          "output_type": "stream",
          "name": "stdout",
          "text": [
            "Enter text:\n",
            "English: G\n",
            "English: o\n",
            "English: o\n",
            "English: d\n",
            "English: m\n",
            "English: o\n",
            "English: r\n",
            "English: n\n",
            "English: i\n",
            "English: n\n",
            "English: g\n",
            "Ethiopic (Ge'ez): እ\n",
            "Ethiopic (Ge'ez): ን\n",
            "Ethiopic (Ge'ez): ዴ\n",
            "Ethiopic (Ge'ez): ት\n",
            "Ethiopic (Ge'ez): ነ\n",
            "Ethiopic (Ge'ez): ህ\n",
            "Mandarin: 你\n",
            "Mandarin: 好\n",
            "Mandarin: 你\n",
            "Mandarin: 好\n",
            "Mandarin: 吗\n",
            "Unrecognized UTF-8: �\n",
            "Sanskrit: न\n",
            "Sanskrit: म\n",
            "Sanskrit: स\n",
            "Sanskrit: ्\n",
            "Sanskrit: त\n",
            "Sanskrit: े\n",
            "Sanskrit: द\n",
            "Sanskrit: ो\n",
            "Sanskrit: स\n",
            "Sanskrit: ्\n",
            "Sanskrit: त\n",
            "Sanskrit: ो\n",
            "Sanskrit: ं\n",
            "Middle Eastern: م\n",
            "Middle Eastern: ر\n",
            "Middle Eastern: ح\n",
            "Middle Eastern: ب\n",
            "Middle Eastern: ا\n",
            "Middle Eastern: ه\n",
            "Middle Eastern: ل\n",
            "Middle Eastern: أ\n",
            "Middle Eastern: ن\n",
            "Middle Eastern: ت\n",
            "Middle Eastern: ب\n",
            "Middle Eastern: خ\n",
            "Middle Eastern: ي\n",
            "Middle Eastern: ر\n",
            "Unrecognized UTF-8: �\n",
            "\n",
            " Summary \n",
            "\n",
            "Ethiopic (Ge'ez) characters: 6\n",
            "English characters: 11\n",
            "Mandarin characters: 5\n",
            "Sanskrit characters: 13\n",
            "Middle Eastern characters: 14\n",
            "Unrecognized characters: 20\n"
          ]
        }
      ]
    },
    {
      "cell_type": "code",
      "source": [
        "#Program to recognize Amharic/Ge'ez character order\n",
        "# (e.g., ሳድስ, ራብዕ, ሳልስ):\n",
        "\n",
        "%%writefile amharicRecognizer.l\n",
        "%{\n",
        "#include <stdio.h>\n",
        "%}\n",
        "\n",
        "%%\n",
        "\n",
        "ሀ|ለ|መ|ሰ|ረ|ቀ|በ   { printf(\"ግዕዝ : %s\\n\", yytext); }\n",
        "ሁ|ሉ|ሙ|ሱ|ሩ|ቁ|ቡ    { printf(\"ካዕብ : %s\\n\", yytext); }\n",
        "ሂ|ሊ|ሚ|ሲ|ሪ|ቂ|ቢ    { printf(\"ሳልስ : %s\\n\", yytext); }\n",
        "ሃ|ላ|ማ|ሳ|ራ|ቃ|ባ    { printf(\"ራብዕ : %s\\n\", yytext); }\n",
        "ሄ|ሌ|ሜ|ሴ|ሬ|ቄ|ቤ    { printf(\"ሓምስ : %s\\n\", yytext); }\n",
        "ህ|ል|ም|ስ|ር|ቅ|ብ    { printf(\"ሳድስ : %s\\n\", yytext); }\n",
        "ሆ|ሎ|ሞ|ሶ|ሮ|ቆ|ቦ    { printf(\"ሳብዕ : %s\\n\", yytext); }\n",
        ".|\\\\n                   { /* Ignore */ }\n",
        "\n",
        "%%\n",
        "\n",
        "int main() {\n",
        "    printf(\"Enter Amharic text/sentence: \");\n",
        "    yylex();\n",
        "    return 0;\n",
        "}\n",
        "\n",
        "int yywrap() {\n",
        "    return 1;\n",
        "}\n",
        "\n"
      ],
      "metadata": {
        "colab": {
          "base_uri": "https://localhost:8080/"
        },
        "id": "OVWfbZoXRH94",
        "outputId": "5c95b4a0-51e6-49cc-bacf-ccae070f6387"
      },
      "execution_count": null,
      "outputs": [
        {
          "output_type": "stream",
          "name": "stdout",
          "text": [
            "Overwriting amharicRecognizer.l\n"
          ]
        }
      ]
    },
    {
      "cell_type": "code",
      "source": [
        "!flex amharicRecognizer.l\n",
        "!gcc lex.yy.c -o amharicRecognizer -lfl\n",
        "\n"
      ],
      "metadata": {
        "id": "8Xl6Nfl6XCzo"
      },
      "execution_count": null,
      "outputs": []
    },
    {
      "cell_type": "code",
      "source": [
        "%%writefile amharicRecognizerInput.txt\n",
        "በሰዓቱ መጣሁ\n",
        "እኔ ደህና ነኝሰላም እንዴት ነህ"
      ],
      "metadata": {
        "colab": {
          "base_uri": "https://localhost:8080/"
        },
        "id": "oD-PrznjbfiK",
        "outputId": "2bc8d033-7929-4301-bc2d-5a0199ecb318"
      },
      "execution_count": null,
      "outputs": [
        {
          "output_type": "stream",
          "name": "stdout",
          "text": [
            "Writing amharicRecognizerInput.txt\n"
          ]
        }
      ]
    },
    {
      "cell_type": "code",
      "source": [
        "!./amharicRecognizer < amharicRecognizerInput.txt"
      ],
      "metadata": {
        "colab": {
          "base_uri": "https://localhost:8080/"
        },
        "id": "OwosiaXNcYK7",
        "outputId": "8216d844-4b22-45e4-e9c1-5d12450e6c50"
      },
      "execution_count": null,
      "outputs": [
        {
          "output_type": "stream",
          "name": "stdout",
          "text": [
            "Enter Amharic text/sentence: ግዕዝ : በ\n",
            "ግዕዝ : ሰ\n",
            "ግዕዝ : መ\n",
            "ካዕብ : ሁ\n",
            "\n",
            "ሳድስ : ህ\n",
            "ግዕዝ : ሰ\n",
            "ራብዕ : ላ\n",
            "ሳድስ : ም\n",
            "ሳድስ : ህ\n",
            "\n"
          ]
        }
      ]
    },
    {
      "cell_type": "code",
      "source": [
        "# Program to find the length of the longest word:\n",
        "\n",
        "%%writefile longest_word.l\n",
        "%{\n",
        "#include <stdio.h>\n",
        "int max_word_length = 0;\n",
        "char largest_word[100];\n",
        "%}\n",
        "\n",
        "%%\n",
        "\n",
        "[a-zA-Z]+   {\n",
        "    if (yyleng > max_word_length) {\n",
        "        max_word_length = yyleng;\n",
        "        strncpy(largest_word, yytext, yyleng);\n",
        "        largest_word[yyleng] = '\\0';\n",
        "    }\n",
        "}\n",
        ".|\\n        { /* Ignore */ }\n",
        "\n",
        "%%\n",
        "\n",
        "int main() {\n",
        "    printf(\"Word Length Finder\\n\\n\");\n",
        "    fflush(stdout);\n",
        "    yylex();\n",
        "    if (max_word_length > 0) {\n",
        "        printf(\"  Largest word is: %s\\n\", largest_word);\n",
        "        printf(\"  Size of largest word is: %d\\n\", max_word_length);\n",
        "    } else {\n",
        "        printf(\"No words detected.\\n\");\n",
        "    }\n",
        "    fflush(stdout);\n",
        "    printf(\"\\n Detection Completed \\n\");\n",
        "    fflush(stdout);\n",
        "    return 0;\n",
        "}\n",
        "\n",
        "int yywrap() {\n",
        "    return 1;\n",
        "}\n",
        "\n"
      ],
      "metadata": {
        "colab": {
          "base_uri": "https://localhost:8080/"
        },
        "id": "eb2f91GKdBvb",
        "outputId": "1e4fc31e-4e03-46b1-85dd-d1423d6ff609"
      },
      "execution_count": null,
      "outputs": [
        {
          "output_type": "stream",
          "name": "stdout",
          "text": [
            "Writing longest_word.l\n"
          ]
        }
      ]
    },
    {
      "cell_type": "code",
      "source": [
        "%%writefile longest_wordInput.txt\n",
        "\n",
        "Innovation distinguishes between a leader and a follower.\n",
        "Success is not final, failure is not fatal.\n",
        "Determination, perseverance, and resilience lead to greatness.\n",
        "\n"
      ],
      "metadata": {
        "colab": {
          "base_uri": "https://localhost:8080/"
        },
        "id": "JCgFWEKLeImb",
        "outputId": "0f763d07-0146-44de-ed89-77b8fb7a2beb"
      },
      "execution_count": null,
      "outputs": [
        {
          "output_type": "stream",
          "name": "stdout",
          "text": [
            "Overwriting longest_wordInput.txt\n"
          ]
        }
      ]
    },
    {
      "cell_type": "code",
      "source": [
        "!flex longest_word.l\n",
        "!gcc lex.yy.c -o longest_word -lfl\n",
        "!./longest_word < longest_wordInput.txt"
      ],
      "metadata": {
        "colab": {
          "base_uri": "https://localhost:8080/"
        },
        "id": "kCnX1BUVeUSP",
        "outputId": "a63443b9-a0b1-4a21-8be1-8f41facce7ac"
      },
      "execution_count": null,
      "outputs": [
        {
          "output_type": "stream",
          "name": "stdout",
          "text": [
            "Word Length Finder\n",
            "\n",
            "  Largest word is: distinguishes\n",
            "  Size of largest word is: 13\n",
            "\n",
            " Detection Completed \n"
          ]
        }
      ]
    },
    {
      "cell_type": "code",
      "source": [
        "# Program to identify and count positive and negative numbers:\n",
        "\n",
        "%%writefile numberClassifier.l\n",
        "%{\n",
        "#include <stdio.h>\n",
        "int posCount = 0, negCount = 0;\n",
        "%}\n",
        "\n",
        "%%\n",
        "\n",
        "-[0-9]+(\\.[0-9]+)?     { negCount++; printf(\"  %-10s : %s\\n\", \"Negative\", yytext); }\n",
        "[0-9]+(\\.[0-9]+)?      { posCount++; printf(\"  %-10s : %s\\n\", \"Positive\", yytext); }\n",
        ".|\\n                   { /* Ignore */ }\n",
        "\n",
        "%%\n",
        "\n",
        "int main() {\n",
        "    printf(\" Number Type Detector \\n\");\n",
        "    yylex();\n",
        "    printf(\"\\nSummary:\\n\");\n",
        "    printf(\"  Total Positive numbers: %d\\n\", posCount);\n",
        "    printf(\"  Total Negative numbers: %d\\n\", negCount);\n",
        "    return 0;\n",
        "}\n",
        "\n",
        "int yywrap() {\n",
        "    return 1;\n",
        "}\n"
      ],
      "metadata": {
        "colab": {
          "base_uri": "https://localhost:8080/"
        },
        "id": "EKmNtnvNfBub",
        "outputId": "edfc8931-7962-447a-a491-d56a685bff00"
      },
      "execution_count": null,
      "outputs": [
        {
          "output_type": "stream",
          "name": "stdout",
          "text": [
            "Writing numberClassifier.l\n"
          ]
        }
      ]
    },
    {
      "cell_type": "code",
      "source": [
        "%%writefile numberClassifierInput.txt\n",
        "3.14\n",
        "-45\n",
        "0.56\n",
        "-100\n",
        "99\n",
        "-0.25"
      ],
      "metadata": {
        "colab": {
          "base_uri": "https://localhost:8080/"
        },
        "id": "dJVEGgXFf5AG",
        "outputId": "a663f2dc-b223-4650-9a54-523d6b2fed89"
      },
      "execution_count": null,
      "outputs": [
        {
          "output_type": "stream",
          "name": "stdout",
          "text": [
            "Writing numberClassifierInput.txt\n"
          ]
        }
      ]
    },
    {
      "cell_type": "code",
      "source": [
        "!flex numberClassifier.l\n",
        "!gcc lex.yy.c -o numberClassifier -lfl\n",
        "!./numberClassifier < numberClassifierInput.txt"
      ],
      "metadata": {
        "colab": {
          "base_uri": "https://localhost:8080/"
        },
        "id": "VHDct7ZVgKBf",
        "outputId": "1ba3d5c6-54f2-4a64-e5f4-a756967b465b"
      },
      "execution_count": null,
      "outputs": [
        {
          "output_type": "stream",
          "name": "stdout",
          "text": [
            " Number Type Detector \n",
            "  Positive   : 3.14\n",
            "  Negative   : -45\n",
            "  Positive   : 0.56\n",
            "  Negative   : -100\n",
            "  Positive   : 99\n",
            "  Negative   : -0.25\n",
            "\n",
            "Summary:\n",
            "  Total Positive numbers: 3\n",
            "  Total Negative numbers: 3\n"
          ]
        }
      ]
    },
    {
      "cell_type": "markdown",
      "source": [
        "# Compiler Design Course Exercises\n",
        "\n",
        "## Student Information\n",
        "- **Name**: Etsubdink Desalegn Adamu\n",
        "- **ID Number**: 146018\n",
        "- **Google Colab Link**: https://colab.research.google.com/drive/190Je-D1QM-d_I4UDD7zvLGuZgHBPrbx7?usp=sharing\n",
        "\n",
        "---\n",
        "\n",
        "## Tasks Completed:\n",
        "1. Count characters, words, spaces, and lines.\n",
        "2. Validate an email address.\n",
        "3. Validate password strength.\n",
        "4. Simple calculator implementation.\n",
        "5. URL validation.\n",
        "6. Woldia University student ID validation.\n",
        "7. Recognize multiple language scripts.\n",
        "8. Recognize Amharic/Ge’ez character orders.\n",
        "9. Find the length of the longest word.\n",
        "10. Identify and count positive and negative numbers.\n"
      ],
      "metadata": {
        "id": "O9jEyZ6NiA9Q"
      }
    }
  ]
}